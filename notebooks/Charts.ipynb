{
 "cells": [
  {
   "cell_type": "markdown",
   "metadata": {},
   "source": [
    "# Altair Basic Charting\n",
    "\n",
    "This notebook seeks to walk you through many of the basic chart types you're going to be building with Altair, such as line charts, bar charts, histograms, etc. "
   ]
  },
  {
   "cell_type": "code",
   "execution_count": null,
   "metadata": {
    "collapsed": false
   },
   "outputs": [],
   "source": [
    "import random\n",
    "\n",
    "from IPython.display import HTML, display\n",
    "import numpy as np\n",
    "import pandas as pd\n",
    "\n",
    "import altair.api as alt"
   ]
  },
  {
   "cell_type": "code",
   "execution_count": null,
   "metadata": {
    "collapsed": false
   },
   "outputs": [],
   "source": [
    "alt.use_renderer('lightning')"
   ]
  },
  {
   "cell_type": "markdown",
   "metadata": {},
   "source": [
    "First we're going to generate some data that might be representative of datasets you're using. Altair works with Pandas DataFrames, so our examples will move from regular Python data structures to DataFrames.\n",
    "\n",
    "First we're going to create a simple bar chart out of an iterable of x/y pairs. We'll first encode the `col_1` and `col_2` data to `x` and `y`, and then specify widths/heights. Vega-lite has faceting built-in, so it has two dimension specifications: \n",
    "* `width`/`height`: The width/height of the entire chart\n",
    "* `singleWidth`/`singleHeight`: The width/height of a *single* facet\n",
    "\n",
    "In the following example, we only have one facet, so we'll bound our box appropriately. "
   ]
  },
  {
   "cell_type": "code",
   "execution_count": null,
   "metadata": {
    "collapsed": false
   },
   "outputs": [],
   "source": [
    "# Dict of lists\n",
    "list_data = {'col_1': [1, 2, 3, 4, 5, 6, 7], \n",
    "             'col_2': [10, 20, 30, 20, 15, 30, 45]}\n",
    "\n",
    "df = pd.DataFrame(list_data)\n",
    "fig_1 = (alt.Viz(list_data)\n",
    "            .encode(x=\"col_1\", y=\"col_2\")\n",
    "            .configure(width=600, height=400, \n",
    "                       singleWidth=500, singleHeight=300))"
   ]
  },
  {
   "cell_type": "markdown",
   "metadata": {},
   "source": [
    "Let's take a look a quick look at our dat encoding "
   ]
  },
  {
   "cell_type": "code",
   "execution_count": null,
   "metadata": {
    "collapsed": false
   },
   "outputs": [],
   "source": [
    "fig_1.encoding.x, fig_1.encoding.y"
   ]
  },
  {
   "cell_type": "markdown",
   "metadata": {},
   "source": [
    "As you can see, Altair figured out that both data types where Quantitative, or `Q`. Let's make a chart:"
   ]
  },
  {
   "cell_type": "code",
   "execution_count": null,
   "metadata": {
    "collapsed": false
   },
   "outputs": [],
   "source": [
    "fig_1.render()"
   ]
  },
  {
   "cell_type": "markdown",
   "metadata": {},
   "source": [
    "By default Altair created a scatterplot with a Quantitative axis. Let's take a look at similar data, but with categorical types in the first column."
   ]
  },
  {
   "cell_type": "code",
   "execution_count": null,
   "metadata": {
    "collapsed": false
   },
   "outputs": [],
   "source": [
    "list_data = {'col_1': ['A', 'B', 'C', 'D', 'E', 'F', 'G'], \n",
    "             'col_2': [10, 20, 30, 20, 15, 30, 45]}\n",
    "df = pd.DataFrame(list_data)\n",
    "fig_2 = (alt.Viz(list_data)\n",
    "            .encode(x=\"col_1:O\", y=\"col_2:Q\")\n",
    "            .configure(width=600, height=400, \n",
    "                       singleWidth=500, singleHeight=300)\n",
    "            .bar())\n",
    "fig_2.encoding.x.band = alt.Band(size=60)\n",
    "fig_2.render()"
   ]
  },
  {
   "cell_type": "markdown",
   "metadata": {},
   "source": [
    "You'll see a couple things above. First is that we presented some type hints for the x and y encoding that were parsed by Altair. Second is that the `band` on the x encoding above was important- this dictates the width of *each* categorical element on that axis. In the case of Ordinal or Nominal data (`O` or `N`), the band width determines the total chart width. \n",
    "\n",
    "However, you might not want to spend a lot of time fiddling with band widths and so on. If you just want to create a single chart and fiddle with the dimensions, you can use the `set_single_dims` helper;"
   ]
  },
  {
   "cell_type": "code",
   "execution_count": null,
   "metadata": {
    "collapsed": false
   },
   "outputs": [],
   "source": [
    "df = pd.DataFrame(list_data)\n",
    "fig_3 = (alt.Viz(list_data)\n",
    "            .encode(x=\"col_1\", y=\"col_2\")\n",
    "            .set_single_dims(width=500, height=300)\n",
    "            .circle())\n",
    "fig_3.render()"
   ]
  },
  {
   "cell_type": "markdown",
   "metadata": {},
   "source": [
    "Altair supports some higher-level charts, such as histograms. For these high-level charts, you can pass your x-encoding straight into the `hist` method call:"
   ]
  },
  {
   "cell_type": "code",
   "execution_count": null,
   "metadata": {
    "collapsed": false
   },
   "outputs": [],
   "source": [
    "normal = np.random.normal(size=1000)\n",
    "df = pd.DataFrame({\"normal\": normal})\n",
    "fig_4 = (alt.Viz(df)\n",
    "            .hist(x=\"normal:O\", bins=20)\n",
    "            .configure(width=700, height=500, \n",
    "                       singleHeight=300))\n",
    "# Band width will largely depend on your number of bins\n",
    "fig_4.encoding.x.band = alt.Band(size=30)\n",
    "fig_4.render()"
   ]
  },
  {
   "cell_type": "markdown",
   "metadata": {},
   "source": [
    "You can also facet histograms by a second column/dimension, using the `color` keyword in the `hist` call:"
   ]
  },
  {
   "cell_type": "code",
   "execution_count": null,
   "metadata": {
    "collapsed": false
   },
   "outputs": [],
   "source": [
    "normal = np.random.normal(size=1000)\n",
    "cats = np.random.choice([\"A\", \"B\", \"C\", \"D\"], size=1000)\n",
    "df = pd.DataFrame({\"normal\": normal, \"cats\": cats})\n",
    "fig_5 = (alt.Viz(df)\n",
    "            .hist(x=\"normal:O\", color=\"cats\", bins=20)\n",
    "            .configure(width=700, height=500, \n",
    "                       singleHeight=300))\n",
    "# Band width will largely depend on your number of bins\n",
    "fig_5.encoding.x.band = alt.Band(size=30)\n",
    "fig_5.render()"
   ]
  },
  {
   "cell_type": "markdown",
   "metadata": {},
   "source": [
    "We can also build line charts with Time dimension types. The following example also uses the aggregation shorthand to average the y-values."
   ]
  },
  {
   "cell_type": "code",
   "execution_count": null,
   "metadata": {
    "collapsed": false
   },
   "outputs": [],
   "source": [
    "cats = ['y1', 'y2', 'y3', 'y4']\n",
    "date_cats = pd.Categorical.from_array(pd.date_range('1/1/2015', periods=365, freq='D')).astype(str)\n",
    "date_data = {\"date\": date_cats,\n",
    "             \"values\": np.random.randint(0, 100, size=365),\n",
    "             \"categories\": np.random.choice(cats, size=365)}\n",
    "df = pd.DataFrame(date_data)\n",
    "fig_6 = (alt.Viz(df)\n",
    "            .encode(x=\"date:T\", y=\"avg(values):Q\")\n",
    "            .configure(width=900, height=500, singleHeight=400)\n",
    "            .line())\n",
    "fig_6.encoding.x.band = alt.Band(size=50)\n",
    "fig_6.encoding.x.timeUnit = \"month\"\n",
    "fig_6.render()"
   ]
  },
  {
   "cell_type": "code",
   "execution_count": null,
   "metadata": {
    "collapsed": true
   },
   "outputs": [],
   "source": []
  }
 ],
 "metadata": {
  "kernelspec": {
   "display_name": "Python 3",
   "language": "python",
   "name": "python3"
  },
  "language_info": {
   "codemirror_mode": {
    "name": "ipython",
    "version": 3
   },
   "file_extension": ".py",
   "mimetype": "text/x-python",
   "name": "python",
   "nbconvert_exporter": "python",
   "pygments_lexer": "ipython3",
   "version": "3.5.0"
  }
 },
 "nbformat": 4,
 "nbformat_minor": 0
}