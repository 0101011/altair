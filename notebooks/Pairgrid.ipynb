{
 "cells": [
  {
   "cell_type": "markdown",
   "metadata": {},
   "source": [
    "# Pairgrid Example"
   ]
  },
  {
   "cell_type": "markdown",
   "metadata": {},
   "source": [
    "This notebook shows how to perform the data transformation needing to construct a standard pairgrid plot using Altair. This example illustrates one of the core ideas of Altair and vega-lite: *subplot facetting is equivalent to a groupby operation*. "
   ]
  },
  {
   "cell_type": "markdown",
   "metadata": {},
   "source": [
    "## Setup"
   ]
  },
  {
   "cell_type": "code",
   "execution_count": null,
   "metadata": {
    "collapsed": true
   },
   "outputs": [],
   "source": [
    "import numpy as np\n",
    "import pandas as pd\n",
    "import altair.api as alt"
   ]
  },
  {
   "cell_type": "code",
   "execution_count": null,
   "metadata": {
    "collapsed": false
   },
   "outputs": [],
   "source": [
    "alt.use_renderer('lightning')"
   ]
  },
  {
   "cell_type": "markdown",
   "metadata": {},
   "source": [
    "## Load and transform data"
   ]
  },
  {
   "cell_type": "code",
   "execution_count": null,
   "metadata": {
    "collapsed": false
   },
   "outputs": [],
   "source": [
    "import seaborn as sns\n",
    "iris = sns.load_dataset('iris')\n",
    "iris.head()"
   ]
  },
  {
   "cell_type": "markdown",
   "metadata": {},
   "source": [
    "Here is a function that transforms the data so that the pairgrid can be constructed using groupby operations:"
   ]
  },
  {
   "cell_type": "code",
   "execution_count": null,
   "metadata": {
    "collapsed": true
   },
   "outputs": [],
   "source": [
    "def pairgrid_transform(data, rows, cols=None):\n",
    "    \"\"\"\n",
    "    Transform a dataframe to allow vega to produce a PairGrid\n",
    "    \n",
    "    \"\"\"\n",
    "    if cols is None:\n",
    "        cols = rows\n",
    "      \n",
    "    M1 = len(rows)\n",
    "    M2 = len(cols)\n",
    "    N = len(data)\n",
    "    \n",
    "    data = pd.concat(M1 * M2 * [data])\n",
    "    i = np.arange(N * M1 * M2)\n",
    "    irow = np.arange(N * M1 * M2) // N % M1\n",
    "    icol = np.arange(N * M1 * M2) // N // M1\n",
    "    \n",
    "    data['x'] = data[cols].values[i, icol]\n",
    "    data['y'] = data[rows].values[i, irow]\n",
    "    data['row'] = rows.values[irow]\n",
    "    data['col'] = cols.values[icol]\n",
    "    \n",
    "    return data"
   ]
  },
  {
   "cell_type": "markdown",
   "metadata": {},
   "source": [
    "Here is the transformed data. Notic how we now have `row` and `col` columns that contains the values we will groupby for the subplot facets:"
   ]
  },
  {
   "cell_type": "code",
   "execution_count": null,
   "metadata": {
    "collapsed": false
   },
   "outputs": [],
   "source": [
    "data = pairgrid_transform(iris, iris.columns[:4])\n",
    "data.head()"
   ]
  },
  {
   "cell_type": "markdown",
   "metadata": {},
   "source": [
    "## Visualization"
   ]
  },
  {
   "cell_type": "markdown",
   "metadata": {},
   "source": [
    "Now the pairgrid is a simple encoding of the transformed data:"
   ]
  },
  {
   "cell_type": "code",
   "execution_count": null,
   "metadata": {
    "collapsed": false
   },
   "outputs": [],
   "source": [
    "v = alt.Viz(data).encode(x='x', y='y', row='row', col='col', color='species').point()\n",
    "v.render()"
   ]
  }
 ],
 "metadata": {
  "kernelspec": {
   "display_name": "Python 3",
   "language": "python",
   "name": "python3"
  },
  "language_info": {
   "codemirror_mode": {
    "name": "ipython",
    "version": 3
   },
   "file_extension": ".py",
   "mimetype": "text/x-python",
   "name": "python",
   "nbconvert_exporter": "python",
   "pygments_lexer": "ipython3",
   "version": "3.5.0"
  }
 },
 "nbformat": 4,
 "nbformat_minor": 0
}