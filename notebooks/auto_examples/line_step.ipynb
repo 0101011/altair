{
 "cells": [
  {
   "cell_type": "markdown",
   "metadata": {},
   "source": [
    "<small>*Notebook auto-generated from [``altair/examples/json/line_step.json``](../../altair/examples/json/line_step.json)*</small>\n",
    "\n",
    "# Altair Example: Line Step\n",
    "\n",
    "Google's stock price over time.\n",
    "\n"
   ]
  },
  {
   "cell_type": "markdown",
   "metadata": {},
   "source": [
    "## Load Dataset\n",
    "The data comes in the form of a Pandas Dataframe:"
   ]
  },
  {
   "cell_type": "code",
   "execution_count": null,
   "metadata": {},
   "outputs": [],
   "source": [
    "from altair import load_dataset\n",
    "data = load_dataset(\"stocks\")\n",
    "data.head()"
   ]
  },
  {
   "cell_type": "markdown",
   "metadata": {},
   "source": [
    "## Define Altair Specification"
   ]
  },
  {
   "cell_type": "code",
   "execution_count": null,
   "metadata": {},
   "outputs": [],
   "source": [
    "from altair import *  # Load all API methods\n",
    "\n",
    "layer = Layer(data,\n",
    "    description=\"Google's stock price over time.\",\n",
    ").mark_line().encode(\n",
    "    x='date:T',\n",
    "    y='price:Q',\n",
    ").transform_data(\n",
    "    filter=\"datum.symbol==='GOOG'\",\n",
    ").configure(\n",
    "    mark=MarkConfig(\n",
    "        interpolate='step-after',\n",
    "    ),\n",
    ")\n",
    "\n",
    "# IPython rich display will invoke Vega-Lite:\n",
    "layer"
   ]
  },
  {
   "cell_type": "markdown",
   "metadata": {},
   "source": [
    "## Output Vega-Lite Specification"
   ]
  },
  {
   "cell_type": "code",
   "execution_count": null,
   "metadata": {},
   "outputs": [],
   "source": [
    "# Generate JSON dict, leaving data out:\n",
    "layer.to_dict(data=False)"
   ]
  }
 ],
 "metadata": {
  "kernelspec": {
   "display_name": "Python 3",
   "env": {},
   "language": "",
   "name": "python3"
  },
  "language": "python"
 },
 "nbformat": 4,
 "nbformat_minor": 0
}
