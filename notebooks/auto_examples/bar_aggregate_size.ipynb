{
 "cells": [
  {
   "cell_type": "markdown",
   "metadata": {},
   "source": [
    "<small>*Notebook auto-generated from [``altair/examples/json/bar_aggregate_size.json``](../../altair/examples/json/bar_aggregate_size.json)*</small>\n",
    "\n",
    "# Altair Example: Bar Aggregate Size\n",
    "\n",
    "A bar chart showing the US population distribution of age groups in 2000.\n",
    "\n"
   ]
  },
  {
   "cell_type": "markdown",
   "metadata": {},
   "source": [
    "## Load Dataset\n",
    "The data comes in the form of a Pandas Dataframe:"
   ]
  },
  {
   "cell_type": "code",
   "execution_count": null,
   "metadata": {},
   "outputs": [],
   "source": [
    "from altair import load_dataset\n",
    "data = load_dataset(\"population\")\n",
    "data.head()"
   ]
  },
  {
   "cell_type": "markdown",
   "metadata": {},
   "source": [
    "## Define Altair Specification"
   ]
  },
  {
   "cell_type": "code",
   "execution_count": null,
   "metadata": {},
   "outputs": [],
   "source": [
    "from altair import *  # Load all API methods\n",
    "\n",
    "layer = Chart(data).mark_bar().encode(\n",
    "    size=Size(\n",
    "        value=10.0,\n",
    "    ),\n",
    "    x=X('age:O',\n",
    "        scale=Scale(\n",
    "            bandSize=17.0,\n",
    "        ),\n",
    "    ),\n",
    "    y=Y('sum(people):Q',\n",
    "        axis=AxisProperties(\n",
    "            title='population',\n",
    "        ),\n",
    "    ),\n",
    ").transform_data(\n",
    "    filter='datum.year == 2000',\n",
    ")\n",
    "\n",
    "# IPython rich display will invoke Vega-Lite:\n",
    "layer"
   ]
  },
  {
   "cell_type": "markdown",
   "metadata": {},
   "source": [
    "## Output Vega-Lite Specification"
   ]
  },
  {
   "cell_type": "code",
   "execution_count": null,
   "metadata": {},
   "outputs": [],
   "source": [
    "# Generate JSON dict, leaving data out:\n",
    "layer.to_dict(data=False)"
   ]
  }
 ],
 "metadata": {
  "kernelspec": {
   "display_name": "Python 3",
   "env": {},
   "language": "python",
   "name": "python3"
  },
  "language": "python"
 },
 "nbformat": 4,
 "nbformat_minor": 0
}
