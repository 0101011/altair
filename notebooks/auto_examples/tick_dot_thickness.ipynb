{
 "cells": [
  {
   "cell_type": "markdown",
   "metadata": {},
   "source": [
    "<small>*Notebook auto-generated from [``altair/examples/json/tick_dot_thickness.json``](../../altair/examples/json/tick_dot_thickness.json)*</small>\n",
    "\n",
    "# Altair Example: Tick Dot Thickness\n",
    "\n",
    "--\n",
    "\n"
   ]
  },
  {
   "cell_type": "markdown",
   "metadata": {},
   "source": [
    "## Load Dataset\n",
    "The data comes in the form of a Pandas Dataframe:"
   ]
  },
  {
   "cell_type": "code",
   "execution_count": null,
   "metadata": {},
   "outputs": [],
   "source": [
    "from altair import load_dataset\n",
    "data = load_dataset(\"cars\")\n",
    "data.head()"
   ]
  },
  {
   "cell_type": "markdown",
   "metadata": {},
   "source": [
    "## Define Altair Specification"
   ]
  },
  {
   "cell_type": "code",
   "execution_count": null,
   "metadata": {},
   "outputs": [],
   "source": [
    "from altair import *  # Load all API methods\n",
    "\n",
    "layer = Layer(data).mark_tick().encode(\n",
    "    x='Horsepower:Q',\n",
    ").configure(\n",
    "    mark=MarkConfig(\n",
    "        tickSize=10.0,\n",
    "        tickThickness=2.0,\n",
    "    ),\n",
    ")\n",
    "\n",
    "# IPython rich display will invoke Vega-Lite:\n",
    "layer"
   ]
  },
  {
   "cell_type": "markdown",
   "metadata": {},
   "source": [
    "## Output Vega-Lite Specification"
   ]
  },
  {
   "cell_type": "code",
   "execution_count": null,
   "metadata": {},
   "outputs": [],
   "source": [
    "# Generate JSON dict, leaving data out:\n",
    "layer.to_dict(data=False)"
   ]
  }
 ],
 "metadata": {
  "kernelspec": {
   "display_name": "Python 3",
   "env": {},
   "language": "",
   "name": "python3"
  },
  "language": "python"
 },
 "nbformat": 4,
 "nbformat_minor": 0
}
