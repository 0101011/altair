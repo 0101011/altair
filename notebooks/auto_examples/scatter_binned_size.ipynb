{
 "cells": [
  {
   "cell_type": "markdown",
   "metadata": {},
   "source": [
    "<small>*Notebook auto-generated from [``altair/examples/json/scatter_binned_size.json``](../../altair/examples/json/scatter_binned_size.json)*</small>\n",
    "\n",
    "# Altair Example: Scatter Binned Size\n",
    "\n",
    "A scatterplot showing horsepower and miles per gallons with binned acceleration on size.\n",
    "\n"
   ]
  },
  {
   "cell_type": "markdown",
   "metadata": {},
   "source": [
    "## Load Dataset\n",
    "The data comes in the form of a Pandas Dataframe:"
   ]
  },
  {
   "cell_type": "code",
   "execution_count": null,
   "metadata": {},
   "outputs": [],
   "source": [
    "from altair import load_dataset\n",
    "data = load_dataset(\"cars\")\n",
    "data.head()"
   ]
  },
  {
   "cell_type": "markdown",
   "metadata": {},
   "source": [
    "## Define Altair Specification"
   ]
  },
  {
   "cell_type": "code",
   "execution_count": null,
   "metadata": {},
   "outputs": [],
   "source": [
    "from altair import *  # Load all API methods\n",
    "\n",
    "layer = Layer(data,\n",
    "    description='A scatterplot showing horsepower and miles per gallons with binned acceleration on size.',\n",
    ").mark_point().encode(\n",
    "    size=Size('Acceleration:Q',\n",
    "        bin=True,\n",
    "    ),\n",
    "    x='Horsepower:Q',\n",
    "    y='Miles_per_Gallon:Q',\n",
    ")\n",
    "\n",
    "# IPython rich display will invoke Vega-Lite:\n",
    "layer"
   ]
  },
  {
   "cell_type": "markdown",
   "metadata": {},
   "source": [
    "## Output Vega-Lite Specification"
   ]
  },
  {
   "cell_type": "code",
   "execution_count": null,
   "metadata": {},
   "outputs": [],
   "source": [
    "# Generate JSON dict, leaving data out:\n",
    "layer.to_dict(data=False)"
   ]
  }
 ],
 "metadata": {
  "kernelspec": {
   "display_name": "Python 3",
   "env": {},
   "language": "",
   "name": "python3"
  },
  "language": "python"
 },
 "nbformat": 4,
 "nbformat_minor": 0
}
