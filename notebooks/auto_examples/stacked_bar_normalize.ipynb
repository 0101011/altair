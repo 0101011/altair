{
 "cells": [
  {
   "cell_type": "markdown",
   "metadata": {},
   "source": [
    "<small>*Notebook auto-generated from [``altair/examples/json/stacked_bar_normalize.json``](../../altair/examples/json/stacked_bar_normalize.json)*</small>\n",
    "\n",
    "# Altair Example: Stacked Bar Normalize\n",
    "\n",
    "--\n",
    "\n"
   ]
  },
  {
   "cell_type": "markdown",
   "metadata": {},
   "source": [
    "## Load Dataset\n",
    "The data comes in the form of a Pandas Dataframe:"
   ]
  },
  {
   "cell_type": "code",
   "execution_count": null,
   "metadata": {},
   "outputs": [],
   "source": [
    "from altair import load_dataset\n",
    "data = load_dataset(\"population\")\n",
    "data.head()"
   ]
  },
  {
   "cell_type": "markdown",
   "metadata": {},
   "source": [
    "## Define Altair Specification"
   ]
  },
  {
   "cell_type": "code",
   "execution_count": null,
   "metadata": {},
   "outputs": [],
   "source": [
    "from altair import *  # Load all API methods\n",
    "\n",
    "layer = Layer(data).mark_bar().encode(\n",
    "    color=Color('gender:N',\n",
    "        scale=Scale(\n",
    "            range=['#EA98D2', '#659CCA'],\n",
    "        ),\n",
    "    ),\n",
    "    x=X('age:O',\n",
    "        scale=Scale(\n",
    "            bandSize=17.0,\n",
    "        ),\n",
    "    ),\n",
    "    y=Y('sum(people):Q',\n",
    "        axis=AxisProperties(\n",
    "            title='population',\n",
    "        ),\n",
    "    ),\n",
    ").transform_data(\n",
    "    calculate=[VgFormula(\n",
    "            expr='datum.sex == 2 ? \"Female\" : \"Male\"',\n",
    "            field='gender',\n",
    "        )],\n",
    "    filter='datum.year == 2000',\n",
    ").configure(\n",
    "    mark=MarkConfig(\n",
    "        stacked='normalize',\n",
    "    ),\n",
    ")\n",
    "\n",
    "# IPython rich display will invoke Vega-Lite:\n",
    "layer"
   ]
  },
  {
   "cell_type": "markdown",
   "metadata": {},
   "source": [
    "## Output Vega-Lite Specification"
   ]
  },
  {
   "cell_type": "code",
   "execution_count": null,
   "metadata": {},
   "outputs": [],
   "source": [
    "# Generate JSON dict, leaving data out:\n",
    "layer.to_dict(data=False)"
   ]
  }
 ],
 "metadata": {
  "kernelspec": {
   "display_name": "Python 3",
   "env": {},
   "language": "",
   "name": "python3"
  },
  "language": "python"
 },
 "nbformat": 4,
 "nbformat_minor": 0
}
