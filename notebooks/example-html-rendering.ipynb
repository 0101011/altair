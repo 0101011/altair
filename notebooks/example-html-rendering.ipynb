{
 "cells": [
  {
   "cell_type": "code",
   "execution_count": 1,
   "metadata": {
    "collapsed": true
   },
   "outputs": [],
   "source": [
    "from altair import api, html"
   ]
  },
  {
   "cell_type": "code",
   "execution_count": 2,
   "metadata": {
    "collapsed": false
   },
   "outputs": [],
   "source": [
    "data = dict(x=[1, 2, 3, 4, 5, 6, 7], y=[1, 2, 3, 4, 5, 6, 7])\n",
    "spec = api.Viz(data)"
   ]
  },
  {
   "cell_type": "code",
   "execution_count": 3,
   "metadata": {
    "collapsed": false
   },
   "outputs": [],
   "source": [
    "s = spec.encode(x='x:Q', y='y:Q').point()"
   ]
  },
  {
   "cell_type": "code",
   "execution_count": 4,
   "metadata": {
    "collapsed": true
   },
   "outputs": [],
   "source": [
    "from IPython.display import HTML, display"
   ]
  },
  {
   "cell_type": "code",
   "execution_count": 5,
   "metadata": {
    "collapsed": false
   },
   "outputs": [
    {
     "data": {
      "text/html": [
       "\n",
       "<iframe width='600' height='400' frameBorder='0' srcdoc='\n",
       "<html>\n",
       "  <head>\n",
       "    <script src=\"http://vega.github.io/vega-editor/vendor/d3.min.js\"></script>\n",
       "    <script src=\"http://vega.github.io/vega-editor/vendor/topojson.js\"></script>\n",
       "    <script src=\"http://vega.github.io/vega-editor/vendor/d3.layout.cloud.js\"></script>\n",
       "    <script src=\"http://rawgit.com/freeman-lab/vega-playground/master/js/vega.js\"></script>\n",
       "    <script src=\"http://rawgit.com/freeman-lab/vega-playground/master/js/vega-lite.js\"></script>\n",
       "  </head>\n",
       "  <body>  \n",
       "    <div id=\"vis\"></div>\n",
       "  </body>\n",
       "    <script type=\"text/javascript\">\n",
       "\n",
       "\n",
       "      function parse(spec) {\n",
       "        vg.parse.spec(spec, function(chart) { \n",
       "          chart({el:\"#vis\"}).update(); \n",
       "        });\n",
       "      }\n",
       "\n",
       "      function render(blob) {\n",
       "        var spec = vl.compile(blob);\n",
       "        parse(spec)\n",
       "      }\n",
       "      var data = {&#34;config&#34;: {&#34;width&#34;: 600, &#34;gridOpacity&#34;: 0.08, &#34;gridColor&#34;: &#34;black&#34;, &#34;height&#34;: 400}, &#34;marktype&#34;: &#34;point&#34;, &#34;data&#34;: {&#34;formatType&#34;: &#34;json&#34;, &#34;values&#34;: [{&#34;y&#34;: 1, &#34;x&#34;: 1}, {&#34;y&#34;: 2, &#34;x&#34;: 2}, {&#34;y&#34;: 3, &#34;x&#34;: 3}, {&#34;y&#34;: 4, &#34;x&#34;: 4}, {&#34;y&#34;: 5, &#34;x&#34;: 5}, {&#34;y&#34;: 6, &#34;x&#34;: 6}, {&#34;y&#34;: 7, &#34;x&#34;: 7}]}, &#34;encoding&#34;: {&#34;y&#34;: {&#34;bin&#34;: false, &#34;type&#34;: &#34;Q&#34;, &#34;name&#34;: &#34;y&#34;}, &#34;x&#34;: {&#34;bin&#34;: false, &#34;type&#34;: &#34;Q&#34;, &#34;name&#34;: &#34;x&#34;}}}\n",
       "      render(data);\n",
       "    </script>\n",
       "</html>'\n",
       "</iframe>"
      ],
      "text/plain": [
       "<IPython.core.display.HTML object>"
      ]
     },
     "metadata": {},
     "output_type": "display_data"
    }
   ],
   "source": [
    "out = html.render(s)\n",
    "display(HTML(out))"
   ]
  }
 ],
 "metadata": {
  "kernelspec": {
   "display_name": "Python 2",
   "language": "python",
   "name": "python2"
  },
  "language_info": {
   "codemirror_mode": {
    "name": "ipython",
    "version": 2
   },
   "file_extension": ".py",
   "mimetype": "text/x-python",
   "name": "python",
   "nbconvert_exporter": "python",
   "pygments_lexer": "ipython2",
   "version": "2.7.9"
  }
 },
 "nbformat": 4,
 "nbformat_minor": 0
}
