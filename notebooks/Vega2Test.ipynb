{
 "cells": [
  {
   "cell_type": "code",
   "execution_count": 1,
   "metadata": {},
   "outputs": [],
   "source": [
    "import altair.vega.v2 as vg"
   ]
  },
  {
   "cell_type": "code",
   "execution_count": 3,
   "metadata": {},
   "outputs": [],
   "source": [
    "spec = {\n",
    "  \"width\": 400,\n",
    "  \"height\": 200,\n",
    "  \"padding\": {\"top\": 10, \"left\": 30, \"bottom\": 30, \"right\": 10},\n",
    "  \"data\": [\n",
    "    {\n",
    "      \"name\": \"table\",\n",
    "      \"values\": [\n",
    "        {\"x\": 1,  \"y\": 28}, {\"x\": 2,  \"y\": 55},\n",
    "        {\"x\": 3,  \"y\": 43}, {\"x\": 4,  \"y\": 91},\n",
    "        {\"x\": 5,  \"y\": 81}, {\"x\": 6,  \"y\": 53},\n",
    "        {\"x\": 7,  \"y\": 19}, {\"x\": 8,  \"y\": 87},\n",
    "        {\"x\": 9,  \"y\": 52}, {\"x\": 10, \"y\": 48},\n",
    "        {\"x\": 11, \"y\": 24}, {\"x\": 12, \"y\": 49},\n",
    "        {\"x\": 13, \"y\": 87}, {\"x\": 14, \"y\": 66},\n",
    "        {\"x\": 15, \"y\": 17}, {\"x\": 16, \"y\": 27},\n",
    "        {\"x\": 17, \"y\": 68}, {\"x\": 18, \"y\": 16},\n",
    "        {\"x\": 19, \"y\": 49}, {\"x\": 20, \"y\": 15}\n",
    "      ]\n",
    "    }\n",
    "  ],\n",
    "  \"scales\": [\n",
    "    {\n",
    "      \"name\": \"x\",\n",
    "      \"type\": \"ordinal\",\n",
    "      \"range\": \"width\",\n",
    "      \"domain\": {\"data\": \"table\", \"field\": \"x\"}\n",
    "    },\n",
    "    {\n",
    "      \"name\": \"y\",\n",
    "      \"type\": \"linear\",\n",
    "      \"range\": \"height\",\n",
    "      \"domain\": {\"data\": \"table\", \"field\": \"y\"},\n",
    "      \"nice\": True\n",
    "    }\n",
    "  ],\n",
    "  \"axes\": [\n",
    "    {\"type\": \"x\", \"scale\": \"x\"},\n",
    "    {\"type\": \"y\", \"scale\": \"y\"}\n",
    "  ],\n",
    "  \"marks\": [\n",
    "    {\n",
    "      \"type\": \"rect\",\n",
    "      \"from\": {\"data\": \"table\"},\n",
    "      \"properties\": {\n",
    "        \"enter\": {\n",
    "          \"x\": {\"scale\": \"x\", \"field\": \"x\"},\n",
    "          \"width\": {\"scale\": \"x\", \"band\": True, \"offset\": -1},\n",
    "          \"y\": {\"scale\": \"y\", \"field\": \"y\"},\n",
    "          \"y2\": {\"scale\": \"y\", \"value\": 0}\n",
    "        },\n",
    "        \"update\": {\n",
    "          \"fill\": {\"value\": \"steelblue\"}\n",
    "        },\n",
    "        \"hover\": {\n",
    "          \"fill\": {\"value\": \"red\"}\n",
    "        }\n",
    "      }\n",
    "    }\n",
    "  ]\n",
    "}"
   ]
  },
  {
   "cell_type": "code",
   "execution_count": 4,
   "metadata": {},
   "outputs": [
    {
     "data": {
      "text/plain": [
       "({'application/vnd.vega.v2+json': {'axes': [{'scale': 'x', 'type': 'x'},\n",
       "    {'scale': 'y', 'type': 'y'}],\n",
       "   'data': [{'name': 'table',\n",
       "     'values': [{'x': 1, 'y': 28},\n",
       "      {'x': 2, 'y': 55},\n",
       "      {'x': 3, 'y': 43},\n",
       "      {'x': 4, 'y': 91},\n",
       "      {'x': 5, 'y': 81},\n",
       "      {'x': 6, 'y': 53},\n",
       "      {'x': 7, 'y': 19},\n",
       "      {'x': 8, 'y': 87},\n",
       "      {'x': 9, 'y': 52},\n",
       "      {'x': 10, 'y': 48},\n",
       "      {'x': 11, 'y': 24},\n",
       "      {'x': 12, 'y': 49},\n",
       "      {'x': 13, 'y': 87},\n",
       "      {'x': 14, 'y': 66},\n",
       "      {'x': 15, 'y': 17},\n",
       "      {'x': 16, 'y': 27},\n",
       "      {'x': 17, 'y': 68},\n",
       "      {'x': 18, 'y': 16},\n",
       "      {'x': 19, 'y': 49},\n",
       "      {'x': 20, 'y': 15}]}],\n",
       "   'height': 200,\n",
       "   'marks': [{'from': {'data': 'table'},\n",
       "     'properties': {'enter': {'width': {'band': True,\n",
       "        'offset': -1,\n",
       "        'scale': 'x'},\n",
       "       'x': {'field': 'x', 'scale': 'x'},\n",
       "       'y': {'field': 'y', 'scale': 'y'},\n",
       "       'y2': {'scale': 'y', 'value': 0}},\n",
       "      'hover': {'fill': {'value': 'red'}},\n",
       "      'update': {'fill': {'value': 'steelblue'}}},\n",
       "     'type': 'rect'}],\n",
       "   'padding': {'bottom': 30, 'left': 30, 'right': 10, 'top': 10},\n",
       "   'scales': [{'domain': {'data': 'table', 'field': 'x'},\n",
       "     'name': 'x',\n",
       "     'range': 'width',\n",
       "     'type': 'ordinal'},\n",
       "    {'domain': {'data': 'table', 'field': 'y'},\n",
       "     'name': 'y',\n",
       "     'nice': True,\n",
       "     'range': 'height',\n",
       "     'type': 'linear'}],\n",
       "   'width': 400},\n",
       "  'text/plain': '<Vega 2 object>'},\n",
       " {})"
      ]
     },
     "execution_count": 4,
     "metadata": {},
     "output_type": "execute_result"
    }
   ],
   "source": [
    "vg.renderers.get()(spec)"
   ]
  },
  {
   "cell_type": "code",
   "execution_count": 5,
   "metadata": {},
   "outputs": [
    {
     "data": {
      "application/vnd.vega.v2+json": {
       "axes": [
        {
         "scale": "x",
         "type": "x"
        },
        {
         "scale": "y",
         "type": "y"
        }
       ],
       "data": [
        {
         "name": "table",
         "values": [
          {
           "x": 1,
           "y": 28
          },
          {
           "x": 2,
           "y": 55
          },
          {
           "x": 3,
           "y": 43
          },
          {
           "x": 4,
           "y": 91
          },
          {
           "x": 5,
           "y": 81
          },
          {
           "x": 6,
           "y": 53
          },
          {
           "x": 7,
           "y": 19
          },
          {
           "x": 8,
           "y": 87
          },
          {
           "x": 9,
           "y": 52
          },
          {
           "x": 10,
           "y": 48
          },
          {
           "x": 11,
           "y": 24
          },
          {
           "x": 12,
           "y": 49
          },
          {
           "x": 13,
           "y": 87
          },
          {
           "x": 14,
           "y": 66
          },
          {
           "x": 15,
           "y": 17
          },
          {
           "x": 16,
           "y": 27
          },
          {
           "x": 17,
           "y": 68
          },
          {
           "x": 18,
           "y": 16
          },
          {
           "x": 19,
           "y": 49
          },
          {
           "x": 20,
           "y": 15
          }
         ]
        }
       ],
       "height": 200,
       "marks": [
        {
         "from": {
          "data": "table"
         },
         "properties": {
          "enter": {
           "width": {
            "band": true,
            "offset": -1,
            "scale": "x"
           },
           "x": {
            "field": "x",
            "scale": "x"
           },
           "y": {
            "field": "y",
            "scale": "y"
           },
           "y2": {
            "scale": "y",
            "value": 0
           }
          },
          "hover": {
           "fill": {
            "value": "red"
           }
          },
          "update": {
           "fill": {
            "value": "steelblue"
           }
          }
         },
         "type": "rect"
        }
       ],
       "padding": {
        "bottom": 30,
        "left": 30,
        "right": 10,
        "top": 10
       },
       "scales": [
        {
         "domain": {
          "data": "table",
          "field": "x"
         },
         "name": "x",
         "range": "width",
         "type": "ordinal"
        },
        {
         "domain": {
          "data": "table",
          "field": "y"
         },
         "name": "y",
         "nice": true,
         "range": "height",
         "type": "linear"
        }
       ],
       "width": 400
      },
      "image/png": "[encoded data removed]",
      "text/plain": [
       "<Vega 2 object>"
      ]
     },
     "metadata": {},
     "output_type": "display_data"
    }
   ],
   "source": [
    "vg.vega(spec, validate=True)"
   ]
  },
  {
   "cell_type": "code",
   "execution_count": 6,
   "metadata": {},
   "outputs": [],
   "source": [
    "vg.renderers.enable('json')"
   ]
  },
  {
   "cell_type": "code",
   "execution_count": 7,
   "metadata": {},
   "outputs": [
    {
     "data": {
      "application/json": {
       "axes": [
        {
         "scale": "x",
         "type": "x"
        },
        {
         "scale": "y",
         "type": "y"
        }
       ],
       "data": [
        {
         "name": "table",
         "values": [
          {
           "x": 1,
           "y": 28
          },
          {
           "x": 2,
           "y": 55
          },
          {
           "x": 3,
           "y": 43
          },
          {
           "x": 4,
           "y": 91
          },
          {
           "x": 5,
           "y": 81
          },
          {
           "x": 6,
           "y": 53
          },
          {
           "x": 7,
           "y": 19
          },
          {
           "x": 8,
           "y": 87
          },
          {
           "x": 9,
           "y": 52
          },
          {
           "x": 10,
           "y": 48
          },
          {
           "x": 11,
           "y": 24
          },
          {
           "x": 12,
           "y": 49
          },
          {
           "x": 13,
           "y": 87
          },
          {
           "x": 14,
           "y": 66
          },
          {
           "x": 15,
           "y": 17
          },
          {
           "x": 16,
           "y": 27
          },
          {
           "x": 17,
           "y": 68
          },
          {
           "x": 18,
           "y": 16
          },
          {
           "x": 19,
           "y": 49
          },
          {
           "x": 20,
           "y": 15
          }
         ]
        }
       ],
       "height": 200,
       "marks": [
        {
         "from": {
          "data": "table"
         },
         "properties": {
          "enter": {
           "width": {
            "band": true,
            "offset": -1,
            "scale": "x"
           },
           "x": {
            "field": "x",
            "scale": "x"
           },
           "y": {
            "field": "y",
            "scale": "y"
           },
           "y2": {
            "scale": "y",
            "value": 0
           }
          },
          "hover": {
           "fill": {
            "value": "red"
           }
          },
          "update": {
           "fill": {
            "value": "steelblue"
           }
          }
         },
         "type": "rect"
        }
       ],
       "padding": {
        "bottom": 30,
        "left": 30,
        "right": 10,
        "top": 10
       },
       "scales": [
        {
         "domain": {
          "data": "table",
          "field": "x"
         },
         "name": "x",
         "range": "width",
         "type": "ordinal"
        },
        {
         "domain": {
          "data": "table",
          "field": "y"
         },
         "name": "y",
         "nice": true,
         "range": "height",
         "type": "linear"
        }
       ],
       "width": 400
      },
      "text/plain": [
       "<Vega 2 object>"
      ]
     },
     "metadata": {},
     "output_type": "display_data"
    }
   ],
   "source": [
    "vg.vega(spec, validate=True)"
   ]
  }
 ],
 "metadata": {
  "kernelspec": {
   "display_name": "Python 3",
   "language": "python",
   "name": "python3"
  },
  "language_info": {
   "codemirror_mode": {
    "name": "ipython",
    "version": 3
   },
   "file_extension": ".py",
   "mimetype": "text/x-python",
   "name": "python",
   "nbconvert_exporter": "python",
   "pygments_lexer": "ipython3",
   "version": "3.6.3"
  }
 },
 "nbformat": 4,
 "nbformat_minor": 2
}
