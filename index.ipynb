{
 "cells": [
  {
   "cell_type": "markdown",
   "metadata": {},
   "source": [
    "# Altair Notebooks"
   ]
  },
  {
   "cell_type": "markdown",
   "metadata": {},
   "source": [
    "The following is a list of Jupyer notebooks that demonstrate various aspects of the Altair API:\n",
    "\n",
    "* [Basic Example](./notebooks/BasicExample.ipynb)\n",
    "* [Titanic](./notebooks/Titanic.ipynb)\n",
    "* [Pairgrid](./notebooks/Pairgrid.ipynb)\n",
    "* [Charts](./notebooks/Charts.ipynb)"
   ]
  }
 ],
 "metadata": {
  "kernelspec": {
   "display_name": "Python 3",
   "language": "python",
   "name": "python3"
  },
  "language_info": {
   "codemirror_mode": {
    "name": "ipython",
    "version": 3
   },
   "file_extension": ".py",
   "mimetype": "text/x-python",
   "name": "python",
   "nbconvert_exporter": "python",
   "pygments_lexer": "ipython3",
   "version": "3.5.0"
  }
 },
 "nbformat": 4,
 "nbformat_minor": 0
}
