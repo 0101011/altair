{
 "cells": [
  {
   "cell_type": "code",
   "execution_count": 3,
   "metadata": {
    "collapsed": true
   },
   "outputs": [],
   "source": [
    "from altair import api, html"
   ]
  },
  {
   "cell_type": "code",
   "execution_count": 4,
   "metadata": {
    "collapsed": false
   },
   "outputs": [
    {
     "ename": "AttributeError",
     "evalue": "'Config' object has no attribute '_has_section'",
     "output_type": "error",
     "traceback": [
      "\u001b[0;31m---------------------------------------------------------------------------\u001b[0m",
      "\u001b[0;31mAttributeError\u001b[0m                            Traceback (most recent call last)",
      "\u001b[0;32m<ipython-input-4-16a8106b8784>\u001b[0m in \u001b[0;36m<module>\u001b[0;34m()\u001b[0m\n\u001b[1;32m      1\u001b[0m \u001b[0mdata\u001b[0m \u001b[0;34m=\u001b[0m \u001b[0mdict\u001b[0m\u001b[0;34m(\u001b[0m\u001b[0mx\u001b[0m\u001b[0;34m=\u001b[0m\u001b[0;34m[\u001b[0m\u001b[0;36m1\u001b[0m\u001b[0;34m,\u001b[0m \u001b[0;36m2\u001b[0m\u001b[0;34m,\u001b[0m \u001b[0;36m3\u001b[0m\u001b[0;34m,\u001b[0m \u001b[0;36m4\u001b[0m\u001b[0;34m,\u001b[0m \u001b[0;36m5\u001b[0m\u001b[0;34m,\u001b[0m \u001b[0;36m6\u001b[0m\u001b[0;34m,\u001b[0m \u001b[0;36m7\u001b[0m\u001b[0;34m]\u001b[0m\u001b[0;34m,\u001b[0m \u001b[0my\u001b[0m\u001b[0;34m=\u001b[0m\u001b[0;34m[\u001b[0m\u001b[0;36m1\u001b[0m\u001b[0;34m,\u001b[0m \u001b[0;36m2\u001b[0m\u001b[0;34m,\u001b[0m \u001b[0;36m3\u001b[0m\u001b[0;34m,\u001b[0m \u001b[0;36m4\u001b[0m\u001b[0;34m,\u001b[0m \u001b[0;36m5\u001b[0m\u001b[0;34m,\u001b[0m \u001b[0;36m6\u001b[0m\u001b[0;34m,\u001b[0m \u001b[0;36m7\u001b[0m\u001b[0;34m]\u001b[0m\u001b[0;34m)\u001b[0m\u001b[0;34m\u001b[0m\u001b[0m\n\u001b[0;32m----> 2\u001b[0;31m \u001b[0mspec\u001b[0m \u001b[0;34m=\u001b[0m \u001b[0mapi\u001b[0m\u001b[0;34m.\u001b[0m\u001b[0mViz\u001b[0m\u001b[0;34m(\u001b[0m\u001b[0mdata\u001b[0m\u001b[0;34m)\u001b[0m\u001b[0;34m\u001b[0m\u001b[0m\n\u001b[0m",
      "\u001b[0;32m/Users/freemanj11/github/altair/altair/api.py\u001b[0m in \u001b[0;36m__init__\u001b[0;34m(self, data, **kwargs)\u001b[0m\n\u001b[1;32m    260\u001b[0m     \u001b[0;32mdef\u001b[0m \u001b[0m__init__\u001b[0m\u001b[0;34m(\u001b[0m\u001b[0mself\u001b[0m\u001b[0;34m,\u001b[0m \u001b[0mdata\u001b[0m\u001b[0;34m,\u001b[0m \u001b[0;34m**\u001b[0m\u001b[0mkwargs\u001b[0m\u001b[0;34m)\u001b[0m\u001b[0;34m:\u001b[0m\u001b[0;34m\u001b[0m\u001b[0m\n\u001b[1;32m    261\u001b[0m         \u001b[0mkwargs\u001b[0m\u001b[0;34m[\u001b[0m\u001b[0;34m'data'\u001b[0m\u001b[0;34m]\u001b[0m \u001b[0;34m=\u001b[0m \u001b[0mdata\u001b[0m\u001b[0;34m\u001b[0m\u001b[0m\n\u001b[0;32m--> 262\u001b[0;31m         \u001b[0msuper\u001b[0m\u001b[0;34m(\u001b[0m\u001b[0mViz\u001b[0m\u001b[0;34m,\u001b[0m\u001b[0mself\u001b[0m\u001b[0;34m)\u001b[0m\u001b[0;34m.\u001b[0m\u001b[0m__init__\u001b[0m\u001b[0;34m(\u001b[0m\u001b[0;34m**\u001b[0m\u001b[0mkwargs\u001b[0m\u001b[0;34m)\u001b[0m\u001b[0;34m\u001b[0m\u001b[0m\n\u001b[0m\u001b[1;32m    263\u001b[0m \u001b[0;34m\u001b[0m\u001b[0m\n\u001b[1;32m    264\u001b[0m     \u001b[0;32mdef\u001b[0m \u001b[0mto_dict\u001b[0m\u001b[0;34m(\u001b[0m\u001b[0mself\u001b[0m\u001b[0;34m)\u001b[0m\u001b[0;34m:\u001b[0m\u001b[0;34m\u001b[0m\u001b[0m\n",
      "\u001b[0;32m/Users/freemanj11/anaconda/lib/python2.7/site-packages/traitlets/config/configurable.pyc\u001b[0m in \u001b[0;36m__init__\u001b[0;34m(self, **kwargs)\u001b[0m\n\u001b[1;32m     86\u001b[0m         \u001b[0;32melse\u001b[0m\u001b[0;34m:\u001b[0m\u001b[0;34m\u001b[0m\u001b[0m\n\u001b[1;32m     87\u001b[0m             \u001b[0;31m# allow _config_default to return something\u001b[0m\u001b[0;34m\u001b[0m\u001b[0;34m\u001b[0m\u001b[0m\n\u001b[0;32m---> 88\u001b[0;31m             \u001b[0mself\u001b[0m\u001b[0;34m.\u001b[0m\u001b[0m_load_config\u001b[0m\u001b[0;34m(\u001b[0m\u001b[0mself\u001b[0m\u001b[0;34m.\u001b[0m\u001b[0mconfig\u001b[0m\u001b[0;34m)\u001b[0m\u001b[0;34m\u001b[0m\u001b[0m\n\u001b[0m\u001b[1;32m     89\u001b[0m \u001b[0;34m\u001b[0m\u001b[0m\n\u001b[1;32m     90\u001b[0m         \u001b[0;31m# Ensure explicit kwargs are applied after loading config.\u001b[0m\u001b[0;34m\u001b[0m\u001b[0;34m\u001b[0m\u001b[0m\n",
      "\u001b[0;32m/Users/freemanj11/anaconda/lib/python2.7/site-packages/traitlets/config/configurable.pyc\u001b[0m in \u001b[0;36m_load_config\u001b[0;34m(self, cfg, section_names, traits)\u001b[0m\n\u001b[1;32m    138\u001b[0m             \u001b[0msection_names\u001b[0m \u001b[0;34m=\u001b[0m \u001b[0mself\u001b[0m\u001b[0;34m.\u001b[0m\u001b[0msection_names\u001b[0m\u001b[0;34m(\u001b[0m\u001b[0;34m)\u001b[0m\u001b[0;34m\u001b[0m\u001b[0m\n\u001b[1;32m    139\u001b[0m \u001b[0;34m\u001b[0m\u001b[0m\n\u001b[0;32m--> 140\u001b[0;31m         \u001b[0mmy_config\u001b[0m \u001b[0;34m=\u001b[0m \u001b[0mself\u001b[0m\u001b[0;34m.\u001b[0m\u001b[0m_find_my_config\u001b[0m\u001b[0;34m(\u001b[0m\u001b[0mcfg\u001b[0m\u001b[0;34m)\u001b[0m\u001b[0;34m\u001b[0m\u001b[0m\n\u001b[0m\u001b[1;32m    141\u001b[0m \u001b[0;34m\u001b[0m\u001b[0m\n\u001b[1;32m    142\u001b[0m         \u001b[0;31m# hold trait notifications until after all config has been loaded\u001b[0m\u001b[0;34m\u001b[0m\u001b[0;34m\u001b[0m\u001b[0m\n",
      "\u001b[0;32m/Users/freemanj11/anaconda/lib/python2.7/site-packages/traitlets/config/configurable.pyc\u001b[0m in \u001b[0;36m_find_my_config\u001b[0;34m(self, cfg)\u001b[0m\n\u001b[1;32m    126\u001b[0m                 \u001b[0;31m# Don't do a blind getattr as that would cause the config to\u001b[0m\u001b[0;34m\u001b[0m\u001b[0;34m\u001b[0m\u001b[0m\n\u001b[1;32m    127\u001b[0m                 \u001b[0;31m# dynamically create the section with name Class.__name__.\u001b[0m\u001b[0;34m\u001b[0m\u001b[0;34m\u001b[0m\u001b[0m\n\u001b[0;32m--> 128\u001b[0;31m                 \u001b[0;32mif\u001b[0m \u001b[0mc\u001b[0m\u001b[0;34m.\u001b[0m\u001b[0m_has_section\u001b[0m\u001b[0;34m(\u001b[0m\u001b[0msname\u001b[0m\u001b[0;34m)\u001b[0m\u001b[0;34m:\u001b[0m\u001b[0;34m\u001b[0m\u001b[0m\n\u001b[0m\u001b[1;32m    129\u001b[0m                     \u001b[0mmy_config\u001b[0m\u001b[0;34m.\u001b[0m\u001b[0mmerge\u001b[0m\u001b[0;34m(\u001b[0m\u001b[0mc\u001b[0m\u001b[0;34m[\u001b[0m\u001b[0msname\u001b[0m\u001b[0;34m]\u001b[0m\u001b[0;34m)\u001b[0m\u001b[0;34m\u001b[0m\u001b[0m\n\u001b[1;32m    130\u001b[0m         \u001b[0;32mreturn\u001b[0m \u001b[0mmy_config\u001b[0m\u001b[0;34m\u001b[0m\u001b[0m\n",
      "\u001b[0;31mAttributeError\u001b[0m: 'Config' object has no attribute '_has_section'"
     ]
    }
   ],
   "source": [
    "data = dict(x=[1, 2, 3, 4, 5, 6, 7], y=[1, 2, 3, 4, 5, 6, 7])\n",
    "spec = api.Viz(data)"
   ]
  },
  {
   "cell_type": "code",
   "execution_count": 23,
   "metadata": {
    "collapsed": false
   },
   "outputs": [],
   "source": [
    "s = spec.encode(x='x:Q', y='y:Q').point()"
   ]
  },
  {
   "cell_type": "code",
   "execution_count": 24,
   "metadata": {
    "collapsed": true
   },
   "outputs": [],
   "source": [
    "from IPython.display import HTML, display"
   ]
  },
  {
   "cell_type": "code",
   "execution_count": 25,
   "metadata": {
    "collapsed": false
   },
   "outputs": [
    {
     "data": {
      "text/html": [
       "\n",
       "<iframe width='500' height='300' frameBorder='0' srcdoc='\n",
       "<html>\n",
       "  <head>\n",
       "    <script src=\"http://vega.github.io/vega-editor/vendor/d3.min.js\"></script>\n",
       "    <script src=\"http://vega.github.io/vega-editor/vendor/topojson.js\"></script>\n",
       "    <script src=\"http://vega.github.io/vega-editor/vendor/d3.layout.cloud.js\"></script>\n",
       "    <script src=\"http://rawgit.com/freeman-lab/vega-playground/master/js/vega.js\"></script>\n",
       "    <script src=\"http://rawgit.com/freeman-lab/vega-playground/master/js/vega-lite.js\"></script>\n",
       "  </head>\n",
       "  <body>  \n",
       "    <div id=\"vis\"></div>\n",
       "  </body>\n",
       "    <script type=\"text/javascript\">\n",
       "      console.log(vg)\n",
       "\n",
       "      function parse(spec) {\n",
       "        vg.parse.spec(spec, function(chart) { \n",
       "          chart({el:\"#vis\"}).update(); \n",
       "        });\n",
       "      }\n",
       "\n",
       "      function render(blob) {\n",
       "        var spec = vl.compile(blob);\n",
       "        parse(spec)\n",
       "      }\n",
       "      var data = {&#34;config&#34;: {&#34;width&#34;: 500, &#34;height&#34;: 300}, &#34;marktype&#34;: &#34;point&#34;, &#34;data&#34;: {&#34;formatType&#34;: &#34;json&#34;, &#34;values&#34;: [{&#34;y&#34;: 1, &#34;x&#34;: 1}, {&#34;y&#34;: 2, &#34;x&#34;: 2}, {&#34;y&#34;: 3, &#34;x&#34;: 3}, {&#34;y&#34;: 4, &#34;x&#34;: 4}, {&#34;y&#34;: 5, &#34;x&#34;: 5}, {&#34;y&#34;: 6, &#34;x&#34;: 6}, {&#34;y&#34;: 7, &#34;x&#34;: 7}]}, &#34;encoding&#34;: {&#34;y&#34;: {&#34;bin&#34;: false, &#34;type&#34;: &#34;Q&#34;, &#34;name&#34;: &#34;y&#34;}, &#34;x&#34;: {&#34;bin&#34;: false, &#34;type&#34;: &#34;Q&#34;, &#34;name&#34;: &#34;x&#34;}}}\n",
       "      render(data);\n",
       "    </script>\n",
       "</html>'\n",
       "</iframe>"
      ],
      "text/plain": [
       "<IPython.core.display.HTML object>"
      ]
     },
     "metadata": {},
     "output_type": "display_data"
    }
   ],
   "source": [
    "out = html.render(s)\n",
    "display(HTML(out))"
   ]
  },
  {
   "cell_type": "code",
   "execution_count": 12,
   "metadata": {
    "collapsed": false
   },
   "outputs": [
    {
     "data": {
      "text/html": [
       "\n",
       "<iframe width='800' height='400' frameBorder='0' srcdoc='\n",
       "<html>\n",
       "  <head>\n",
       "    <script src=\"http://vega.github.io/vega-editor/vendor/d3.min.js\"></script>\n",
       "    <script src=\"http://vega.github.io/vega-editor/vendor/topojson.js\"></script>\n",
       "    <script src=\"http://vega.github.io/vega-editor/vendor/d3.layout.cloud.js\"></script>\n",
       "    <script src=\"http://rawgit.com/freeman-lab/vega-playground/master/js/vega.js\"></script>\n",
       "    <script src=\"http://rawgit.com/freeman-lab/vega-playground/master/js/vega-lite.js\"></script>\n",
       "  </head>\n",
       "  <body>  \n",
       "    <div id=\"vis\"></div>\n",
       "  </body>\n",
       "    <script type=\"text/javascript\">\n",
       "      console.log(vg)\n",
       "\n",
       "      function parse(spec) {\n",
       "        vg.parse.spec(spec, function(chart) { \n",
       "          chart({el:\"#vis\"}).update(); \n",
       "        });\n",
       "      }\n",
       "\n",
       "      function render(blob) {\n",
       "        var spec = vl.compile(blob);\n",
       "        parse(spec)\n",
       "      }\n",
       "      var data = {&#34;config&#34;: {&#34;width&#34;: 800, &#34;height&#34;: 800}, &#34;marktype&#34;: &#34;line&#34;, &#34;data&#34;: {&#34;formatType&#34;: &#34;json&#34;, &#34;values&#34;: [{&#34;y&#34;: 1, &#34;x&#34;: 1}, {&#34;y&#34;: 2, &#34;x&#34;: 2}, {&#34;y&#34;: 3, &#34;x&#34;: 3}]}, &#34;encoding&#34;: {&#34;y&#34;: {&#34;bin&#34;: false, &#34;type&#34;: &#34;Q&#34;, &#34;name&#34;: &#34;y&#34;}, &#34;x&#34;: {&#34;bin&#34;: false, &#34;type&#34;: &#34;Q&#34;, &#34;name&#34;: &#34;x&#34;}}}\n",
       "      render(data);\n",
       "    </script>\n",
       "</html>'\n",
       "</iframe>"
      ],
      "text/plain": [
       "<IPython.core.display.HTML object>"
      ]
     },
     "metadata": {},
     "output_type": "display_data"
    }
   ],
   "source": [
    "out = html.render(s)\n",
    "display(HTML(out))"
   ]
  },
  {
   "cell_type": "code",
   "execution_count": 14,
   "metadata": {
    "collapsed": false
   },
   "outputs": [
    {
     "data": {
      "text/plain": [
       "unicode"
      ]
     },
     "execution_count": 14,
     "metadata": {},
     "output_type": "execute_result"
    }
   ],
   "source": []
  },
  {
   "cell_type": "code",
   "execution_count": 9,
   "metadata": {
    "collapsed": true
   },
   "outputs": [],
   "source": [
    "from IPython.display import HTML, display"
   ]
  },
  {
   "cell_type": "code",
   "execution_count": 10,
   "metadata": {
    "collapsed": false
   },
   "outputs": [
    {
     "data": {
      "text/html": [
       "\n",
       "<iframe width='800' height='400' frameBorder='0' srcdoc='\n",
       "<html>\n",
       "  <head>\n",
       "    <script src=\"http://vega.github.io/vega-editor/vendor/d3.min.js\"></script>\n",
       "    <script src=\"http://vega.github.io/vega-editor/vendor/topojson.js\"></script>\n",
       "    <script src=\"http://vega.github.io/vega-editor/vendor/d3.layout.cloud.js\"></script>\n",
       "    <script src=\"http://rawgit.com/freeman-lab/vega-playground/master/js/vega.js\"></script>\n",
       "    <script src=\"http://rawgit.com/freeman-lab/vega-playground/master/js/vega-lite.js\"></script>\n",
       "  </head>\n",
       "  <body>  \n",
       "    <div id=\"vis\"></div>\n",
       "  </body>\n",
       "    <script type=\"text/javascript\">\n",
       "      console.log(vg)\n",
       "\n",
       "      function parse(spec) {\n",
       "        vg.parse.spec(spec, function(chart) { \n",
       "          chart({el:\"#vis\"}).update(); \n",
       "        });\n",
       "      }\n",
       "\n",
       "      function render(blob) {\n",
       "        var spec = vl.compile(blob);\n",
       "        parse(spec)\n",
       "      }\n",
       "      var data = {&#34;config&#34;: {&#34;width&#34;: 800, &#34;height&#34;: 800}, &#34;marktype&#34;: &#34;line&#34;, &#34;data&#34;: {&#34;formatType&#34;: &#34;json&#34;, &#34;values&#34;: [{&#34;y&#34;: 1, &#34;x&#34;: 1}, {&#34;y&#34;: 2, &#34;x&#34;: 2}, {&#34;y&#34;: 3, &#34;x&#34;: 3}]}, &#34;encoding&#34;: {&#34;y&#34;: {&#34;bin&#34;: false, &#34;type&#34;: &#34;Q&#34;, &#34;name&#34;: &#34;y&#34;}, &#34;x&#34;: {&#34;bin&#34;: false, &#34;type&#34;: &#34;Q&#34;, &#34;name&#34;: &#34;x&#34;}}}\n",
       "      render(data);\n",
       "    </script>\n",
       "</html>'\n",
       "</iframe>"
      ],
      "text/plain": [
       "<IPython.core.display.HTML object>"
      ]
     },
     "metadata": {},
     "output_type": "display_data"
    }
   ],
   "source": [
    "display(HTML(foo))"
   ]
  }
 ],
 "metadata": {
  "kernelspec": {
   "display_name": "Python 2",
   "language": "python",
   "name": "python2"
  },
  "language_info": {
   "codemirror_mode": {
    "name": "ipython",
    "version": 2
   },
   "file_extension": ".py",
   "mimetype": "text/x-python",
   "name": "python",
   "nbconvert_exporter": "python",
   "pygments_lexer": "ipython2",
   "version": "2.7.9"
  }
 },
 "nbformat": 4,
 "nbformat_minor": 0
}
